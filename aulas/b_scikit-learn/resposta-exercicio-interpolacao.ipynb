{
 "cells": [
  {
   "cell_type": "code",
   "execution_count": 1,
   "metadata": {},
   "outputs": [
    {
     "name": "stdout",
     "output_type": "stream",
     "text": [
      "[[5.]]\n"
     ]
    }
   ],
   "source": [
    "import numpy as np\n",
    "\n",
    "class LinearInterpolator:\n",
    "\n",
    "    def fit(self, X, y):\n",
    "        self.m = (y[1][0] - y[0][0]) / (X[1][0] - X[0][0])\n",
    "        self.q = y[0][0] - self.m * X[0][0]\n",
    "        return self\n",
    "\n",
    "    def predict(self, X):\n",
    "        return self.m * X + self.q\n",
    "\n",
    "# Os dados que tínhamos!\n",
    "X_train = np.array([[1],\n",
    "                    [4]])\n",
    "y_train = np.array([[3],\n",
    "                    [9]])\n",
    "X_test = np.array([[2]])\n",
    "\n",
    "model = LinearInterpolator().fit(X_train, y_train)\n",
    "y_pred = model.predict(X_test)\n",
    "\n",
    "print(y_pred)"
   ]
  }
 ],
 "metadata": {
  "kernelspec": {
   "display_name": "Python 3",
   "language": "python",
   "name": "python3"
  },
  "language_info": {
   "codemirror_mode": {
    "name": "ipython",
    "version": 3
   },
   "file_extension": ".py",
   "mimetype": "text/x-python",
   "name": "python",
   "nbconvert_exporter": "python",
   "pygments_lexer": "ipython3",
   "version": "3.6.4"
  }
 },
 "nbformat": 4,
 "nbformat_minor": 2
}
