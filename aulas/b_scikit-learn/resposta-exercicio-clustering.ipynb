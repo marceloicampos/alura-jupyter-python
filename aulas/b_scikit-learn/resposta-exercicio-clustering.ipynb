{
 "cells": [
  {
   "cell_type": "markdown",
   "metadata": {},
   "source": [
    "# Aplicando k-Means no Iris dataset"
   ]
  },
  {
   "cell_type": "code",
   "execution_count": null,
   "metadata": {},
   "outputs": [],
   "source": [
    "import numpy as np\n",
    "import pandas as pd\n",
    "from sklearn import datasets, cluster, metrics\n",
    "import seaborn as sns\n",
    "%matplotlib inline"
   ]
  },
  {
   "cell_type": "code",
   "execution_count": null,
   "metadata": {},
   "outputs": [],
   "source": [
    "iris = datasets.load_iris()"
   ]
  },
  {
   "cell_type": "markdown",
   "metadata": {},
   "source": [
    "Estimadores possuem um método `fit_predict`, equivalente a `fit(X, y).predict(X, y)`, sem o `y` no caso não supervisionado:"
   ]
  },
  {
   "cell_type": "code",
   "execution_count": null,
   "metadata": {},
   "outputs": [],
   "source": [
    "results = {k: cluster.KMeans(k, random_state=42).fit_predict(iris.data) for k in [3, 2, 4, 6]}\n",
    "results"
   ]
  },
  {
   "cell_type": "markdown",
   "metadata": {},
   "source": [
    "É possível que, para outros valores de `random_state`, os resultados do k-Means fossem outros para esses mesmos valores de $k$. Porém, na continuidade, esses resultados obtidos serão avaliados."
   ]
  },
  {
   "cell_type": "markdown",
   "metadata": {},
   "source": [
    "# $k = 3$"
   ]
  },
  {
   "cell_type": "markdown",
   "metadata": {},
   "source": [
    "A classificação não ficou exata, há mais elementos de uma classe do que de outra (o ideal seria 50 em todas as classes):"
   ]
  },
  {
   "cell_type": "code",
   "execution_count": null,
   "metadata": {},
   "outputs": [],
   "source": [
    "np.bincount(results[3])"
   ]
  },
  {
   "cell_type": "markdown",
   "metadata": {},
   "source": [
    "Comparemos as classes encontradas pelo k-Means às fornecidas como parte dos dados, onde estão as diferenças?"
   ]
  },
  {
   "cell_type": "code",
   "execution_count": null,
   "metadata": {},
   "outputs": [],
   "source": [
    "metrics.confusion_matrix(iris.target, np.array([1, 0, 2])[results[3]])"
   ]
  },
  {
   "cell_type": "code",
   "execution_count": null,
   "metadata": {},
   "outputs": [],
   "source": [
    "1 - 16 / 150 # Acurácia"
   ]
  },
  {
   "cell_type": "markdown",
   "metadata": {},
   "source": [
    "A classificação não-supervisionada de todos os dados cometeu $16$ erros em $150$, dessa forma a acurácia ficou abaixo de $90\\%$. Vamos ver onde esses erros estão!"
   ]
  },
  {
   "cell_type": "code",
   "execution_count": null,
   "metadata": {},
   "outputs": [],
   "source": [
    "X = pd.DataFrame(iris.data, columns=iris.feature_names)"
   ]
  },
  {
   "cell_type": "code",
   "execution_count": null,
   "metadata": {},
   "outputs": [],
   "source": [
    "sns.pairplot(X.assign(target=iris.target_names[iris.target]),\n",
    "             hue=\"target\",\n",
    "             x_vars=X.columns, y_vars=X.columns);"
   ]
  },
  {
   "cell_type": "code",
   "execution_count": null,
   "metadata": {},
   "outputs": [],
   "source": [
    "sns.pairplot(X.assign(predicted=np.array([\"versicolor-like cluster\",\n",
    "                                          \"setosa-like cluster\",\n",
    "                                          \"virginica-like cluster\"])[results[3]]),\n",
    "             hue=\"predicted\",\n",
    "             x_vars=X.columns, y_vars=X.columns);"
   ]
  },
  {
   "cell_type": "code",
   "execution_count": null,
   "metadata": {},
   "outputs": [],
   "source": [
    "sns.pairplot(X.assign(match=np.array([1, 0, 2])[results[3]] == iris.target),\n",
    "             hue=\"match\",\n",
    "             palette=\"binary_r\",\n",
    "             x_vars=X.columns, y_vars=X.columns);"
   ]
  },
  {
   "cell_type": "markdown",
   "metadata": {},
   "source": [
    "Todos na fronteira entre *I. versicolor* e *I. virginica*!"
   ]
  },
  {
   "cell_type": "markdown",
   "metadata": {},
   "source": [
    "# $k = 2$"
   ]
  },
  {
   "cell_type": "markdown",
   "metadata": {},
   "source": [
    "Para $2$ classes, a separação do k-Means quase agrupou *I. versicolor* e *I. virginica* em uma única classe:"
   ]
  },
  {
   "cell_type": "code",
   "execution_count": null,
   "metadata": {},
   "outputs": [],
   "source": [
    "iris.target_names"
   ]
  },
  {
   "cell_type": "code",
   "execution_count": null,
   "metadata": {},
   "outputs": [],
   "source": [
    "# Iris setosa está inteira em uma única classe!\n",
    "set(results[2][np.where(iris.target == 0)])"
   ]
  },
  {
   "cell_type": "code",
   "execution_count": null,
   "metadata": {},
   "outputs": [],
   "source": [
    "# Todas as Iris virginica estão na outra classe!\n",
    "set(results[2][np.where(iris.target == 2)])"
   ]
  },
  {
   "cell_type": "code",
   "execution_count": null,
   "metadata": {},
   "outputs": [],
   "source": [
    "sns.pairplot(X.assign(**{\"Predicted as $2$ classes\": np.array([\"v\", \"s\"])[results[2]]}),\n",
    "             hue=\"Predicted as $2$ classes\",\n",
    "             x_vars=X.columns, y_vars=X.columns);"
   ]
  },
  {
   "cell_type": "code",
   "execution_count": null,
   "metadata": {},
   "outputs": [],
   "source": [
    "sns.pairplot(X.assign(**{\"Match s-v\": (results[2] == 1) == (iris.target == 0)}),\n",
    "             hue=\"Match s-v\",\n",
    "             palette=\"binary_r\",\n",
    "             x_vars=X.columns, y_vars=X.columns);"
   ]
  },
  {
   "cell_type": "markdown",
   "metadata": {},
   "source": [
    "Com essa interpretação, podemos \"forjar\" uma matriz de erro/confusão:"
   ]
  },
  {
   "cell_type": "code",
   "execution_count": null,
   "metadata": {},
   "outputs": [],
   "source": [
    "metrics.confusion_matrix(iris.target != 0, results[2] != 1)"
   ]
  },
  {
   "cell_type": "markdown",
   "metadata": {},
   "source": [
    "Nesse caso, há apenas $3$ erros: *Iris versicolor* classificadas como *Iris setosa*."
   ]
  },
  {
   "cell_type": "markdown",
   "metadata": {},
   "source": [
    "# $k = 4$"
   ]
  },
  {
   "cell_type": "code",
   "execution_count": null,
   "metadata": {},
   "outputs": [],
   "source": [
    "iris.target_names"
   ]
  },
  {
   "cell_type": "markdown",
   "metadata": {},
   "source": [
    "Para $4$ classes, a separação do k-Means basicamente dividiu a união de *I. versicolor* e *I. virginica* em $3$ classes:"
   ]
  },
  {
   "cell_type": "code",
   "execution_count": null,
   "metadata": {},
   "outputs": [],
   "source": [
    "# Iris setosa continua inteira em uma única classe, e não há nada além da setosa nessa classe!\n",
    "set(results[4][np.where(iris.target == 0)]) # Setosa"
   ]
  },
  {
   "cell_type": "code",
   "execution_count": null,
   "metadata": {},
   "outputs": [],
   "source": [
    "set(results[4][np.where(iris.target == 1)]) # Versicolor"
   ]
  },
  {
   "cell_type": "code",
   "execution_count": null,
   "metadata": {},
   "outputs": [],
   "source": [
    "set(results[4][np.where(iris.target == 2)]) # Virginica está nas 3 classes!"
   ]
  },
  {
   "cell_type": "code",
   "execution_count": null,
   "metadata": {},
   "outputs": [],
   "source": [
    "sns.pairplot(X.assign(**{\"Predicted as $4$ classes\": np.array([\"s\", \"v1\", \"v3\", \"v2\"])[results[4]]}),\n",
    "             hue=\"Predicted as $4$ classes\",\n",
    "             x_vars=X.columns, y_vars=X.columns);"
   ]
  },
  {
   "cell_type": "markdown",
   "metadata": {},
   "source": [
    "# $k = 6$"
   ]
  },
  {
   "cell_type": "markdown",
   "metadata": {},
   "source": [
    "A *Iris Setosa* teve sua classe dividida em duas!"
   ]
  },
  {
   "cell_type": "code",
   "execution_count": null,
   "metadata": {},
   "outputs": [],
   "source": [
    "{iris.target_names[c]: set(results[6][np.where(iris.target == c)]) for c in [0, 1, 2]}"
   ]
  },
  {
   "cell_type": "markdown",
   "metadata": {},
   "source": [
    "Isso permite um mapeamento:\n",
    "\n",
    "|Índice da classe obtida pelo k-Means com $k=6$|Classes de Iris presentes|\n",
    "|-|-|\n",
    "|$0$|*Iris virginica*|\n",
    "|$1$|*Iris setosa*|\n",
    "|$2$|*Iris versicolor* (+ *Iris virginica* residual)|\n",
    "|$3$|*Iris versicolor* (+ *Iris virginica* residual)|\n",
    "|$4$|*Iris virginica*|\n",
    "|$5$|*Iris setosa*|"
   ]
  },
  {
   "cell_type": "code",
   "execution_count": null,
   "metadata": {},
   "outputs": [],
   "source": [
    "sns.pairplot(X.assign(**{\"Predicted as $6$ classes\": np.array([\"vi1\", \"s2\", \"ve2\", \"ve1\", \"vi2\", \"s1\"])[results[6]]}),\n",
    "             hue=\"Predicted as $6$ classes\",\n",
    "             x_vars=X.columns, y_vars=X.columns);"
   ]
  },
  {
   "cell_type": "markdown",
   "metadata": {},
   "source": [
    "Agrupando manualmente os pares, obtemos:"
   ]
  },
  {
   "cell_type": "code",
   "execution_count": null,
   "metadata": {},
   "outputs": [],
   "source": [
    "results_6_2 = np.array([2, 0, 1, 1, 2, 0])[results[6]]"
   ]
  },
  {
   "cell_type": "code",
   "execution_count": null,
   "metadata": {},
   "outputs": [],
   "source": [
    "sns.pairplot(X.assign(**{\"Predicted as $6$ classes, joined\": np.array([\"s\", \"ve\", \"vi\"])[results_6_2]}),\n",
    "             hue=\"Predicted as $6$ classes, joined\",\n",
    "             x_vars=X.columns, y_vars=X.columns);"
   ]
  },
  {
   "cell_type": "markdown",
   "metadata": {},
   "source": [
    "Parece razoável! Mas a divisão ficou mais desequilibrada que a obtida com $k=3$:"
   ]
  },
  {
   "cell_type": "code",
   "execution_count": null,
   "metadata": {},
   "outputs": [],
   "source": [
    "np.bincount(results_6_2)"
   ]
  },
  {
   "cell_type": "markdown",
   "metadata": {},
   "source": [
    "Por outro lado, esse resultado teve mais coincidências com os dados conhecidos na divisão entre *I. versicolor* e *I. virginica*, e uma acurácia acima de $90\\%$:"
   ]
  },
  {
   "cell_type": "code",
   "execution_count": null,
   "metadata": {},
   "outputs": [],
   "source": [
    "metrics.confusion_matrix(iris.target, results_6_2)"
   ]
  },
  {
   "cell_type": "code",
   "execution_count": null,
   "metadata": {},
   "outputs": [],
   "source": [
    "1 - 14 / 150 # Acurácia"
   ]
  },
  {
   "cell_type": "code",
   "execution_count": null,
   "metadata": {},
   "outputs": [],
   "source": [
    "name_6_2 = \"Match with the $6$ classes prediction pair\"\n",
    "sns.pairplot(X.assign(**{name_6_2: results_6_2 == iris.target}),\n",
    "             hue=name_6_2,\n",
    "             palette=\"binary_r\",\n",
    "             x_vars=X.columns, y_vars=X.columns);"
   ]
  },
  {
   "cell_type": "markdown",
   "metadata": {},
   "source": [
    "Embora o erro seja pequeno, ele é sempre o mesmo: são $14$ espécies de $Iris virginica$ que foram classificadas como $Iris versicolor$. Porém, essa é uma interpretação do resultado do k-Means, não podemos esquecer que as classes não serviram de entrada para a obtenção dos centróides que dividem os dados em $k$ classes."
   ]
  }
 ],
 "metadata": {
  "kernelspec": {
   "display_name": "Python 3",
   "language": "python",
   "name": "python3"
  },
  "language_info": {
   "codemirror_mode": {
    "name": "ipython",
    "version": 3
   },
   "file_extension": ".py",
   "mimetype": "text/x-python",
   "name": "python",
   "nbconvert_exporter": "python",
   "pygments_lexer": "ipython3",
   "version": "3.6.4"
  }
 },
 "nbformat": 4,
 "nbformat_minor": 2
}
