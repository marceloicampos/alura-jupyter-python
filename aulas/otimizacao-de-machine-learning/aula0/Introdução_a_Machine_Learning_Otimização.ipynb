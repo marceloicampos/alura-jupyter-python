{
  "cells": [
    {
      "cell_type": "markdown",
      "metadata": {},
      "source": [
        "### 1. Entendendo o que é um parâmetro"
      ]
    },
    {
      "cell_type": "code",
      "execution_count": 1,
      "metadata": {
        "colab": {},
        "colab_type": "code",
        "id": "y7ik04NlDZMA"
      },
      "outputs": [
        {
          "data": {
            "text/html": [
              "<div>\n",
              "<style scoped>\n",
              "    .dataframe tbody tr th:only-of-type {\n",
              "        vertical-align: middle;\n",
              "    }\n",
              "\n",
              "    .dataframe tbody tr th {\n",
              "        vertical-align: top;\n",
              "    }\n",
              "\n",
              "    .dataframe thead th {\n",
              "        text-align: right;\n",
              "    }\n",
              "</style>\n",
              "<table border=\"1\" class=\"dataframe\">\n",
              "  <thead>\n",
              "    <tr style=\"text-align: right;\">\n",
              "      <th></th>\n",
              "      <th>preco</th>\n",
              "      <th>vendido</th>\n",
              "      <th>idade_do_modelo</th>\n",
              "      <th>km_por_ano</th>\n",
              "    </tr>\n",
              "  </thead>\n",
              "  <tbody>\n",
              "    <tr>\n",
              "      <th>0</th>\n",
              "      <td>30941.02</td>\n",
              "      <td>1</td>\n",
              "      <td>18</td>\n",
              "      <td>35085.22134</td>\n",
              "    </tr>\n",
              "    <tr>\n",
              "      <th>1</th>\n",
              "      <td>40557.96</td>\n",
              "      <td>1</td>\n",
              "      <td>20</td>\n",
              "      <td>12622.05362</td>\n",
              "    </tr>\n",
              "    <tr>\n",
              "      <th>2</th>\n",
              "      <td>89627.50</td>\n",
              "      <td>0</td>\n",
              "      <td>12</td>\n",
              "      <td>11440.79806</td>\n",
              "    </tr>\n",
              "    <tr>\n",
              "      <th>3</th>\n",
              "      <td>95276.14</td>\n",
              "      <td>0</td>\n",
              "      <td>3</td>\n",
              "      <td>43167.32682</td>\n",
              "    </tr>\n",
              "    <tr>\n",
              "      <th>4</th>\n",
              "      <td>117384.68</td>\n",
              "      <td>1</td>\n",
              "      <td>4</td>\n",
              "      <td>12770.11290</td>\n",
              "    </tr>\n",
              "  </tbody>\n",
              "</table>\n",
              "</div>"
            ],
            "text/plain": [
              "       preco  vendido  idade_do_modelo   km_por_ano\n",
              "0   30941.02        1               18  35085.22134\n",
              "1   40557.96        1               20  12622.05362\n",
              "2   89627.50        0               12  11440.79806\n",
              "3   95276.14        0                3  43167.32682\n",
              "4  117384.68        1                4  12770.11290"
            ]
          },
          "execution_count": 1,
          "metadata": {},
          "output_type": "execute_result"
        }
      ],
      "source": [
        "import pandas as pd\n",
        "\n",
        "uri = \"../../otimizacao-de-machine-learning/base-data/machine-learning-carros-simulacao.csv\"\n",
        "dados = pd.read_csv(uri).drop(columns=[\"Unnamed: 0\"], axis=1)\n",
        "dados.head()"
      ]
    },
    {
      "cell_type": "code",
      "execution_count": 2,
      "metadata": {
        "colab": {
          "base_uri": "https://localhost:8080/",
          "height": 204
        },
        "colab_type": "code",
        "id": "b52E4e1hjegN",
        "outputId": "97420810-da24-4bd7-8b8d-242c06aa220a"
      },
      "outputs": [
        {
          "data": {
            "text/html": [
              "<div>\n",
              "<style scoped>\n",
              "    .dataframe tbody tr th:only-of-type {\n",
              "        vertical-align: middle;\n",
              "    }\n",
              "\n",
              "    .dataframe tbody tr th {\n",
              "        vertical-align: top;\n",
              "    }\n",
              "\n",
              "    .dataframe thead th {\n",
              "        text-align: right;\n",
              "    }\n",
              "</style>\n",
              "<table border=\"1\" class=\"dataframe\">\n",
              "  <thead>\n",
              "    <tr style=\"text-align: right;\">\n",
              "      <th></th>\n",
              "      <th>preco</th>\n",
              "      <th>vendido</th>\n",
              "      <th>idade_do_modelo</th>\n",
              "      <th>km_por_ano</th>\n",
              "    </tr>\n",
              "  </thead>\n",
              "  <tbody>\n",
              "    <tr>\n",
              "      <th>4999</th>\n",
              "      <td>74023.29</td>\n",
              "      <td>0</td>\n",
              "      <td>12</td>\n",
              "      <td>24812.80412</td>\n",
              "    </tr>\n",
              "    <tr>\n",
              "      <th>5322</th>\n",
              "      <td>84843.49</td>\n",
              "      <td>0</td>\n",
              "      <td>13</td>\n",
              "      <td>23095.63834</td>\n",
              "    </tr>\n",
              "    <tr>\n",
              "      <th>5319</th>\n",
              "      <td>83100.27</td>\n",
              "      <td>0</td>\n",
              "      <td>19</td>\n",
              "      <td>36240.72746</td>\n",
              "    </tr>\n",
              "    <tr>\n",
              "      <th>5316</th>\n",
              "      <td>87932.13</td>\n",
              "      <td>0</td>\n",
              "      <td>16</td>\n",
              "      <td>32249.56426</td>\n",
              "    </tr>\n",
              "    <tr>\n",
              "      <th>5315</th>\n",
              "      <td>77937.01</td>\n",
              "      <td>0</td>\n",
              "      <td>15</td>\n",
              "      <td>28414.50704</td>\n",
              "    </tr>\n",
              "  </tbody>\n",
              "</table>\n",
              "</div>"
            ],
            "text/plain": [
              "         preco  vendido  idade_do_modelo   km_por_ano\n",
              "4999  74023.29        0               12  24812.80412\n",
              "5322  84843.49        0               13  23095.63834\n",
              "5319  83100.27        0               19  36240.72746\n",
              "5316  87932.13        0               16  32249.56426\n",
              "5315  77937.01        0               15  28414.50704"
            ]
          },
          "execution_count": 2,
          "metadata": {},
          "output_type": "execute_result"
        }
      ],
      "source": [
        "# situação horrível de \"azar\" onde as classes estão ordenadas por padrão\n",
        "\n",
        "dados_azar = dados.sort_values(\"vendido\", ascending=True)\n",
        "x_azar = dados_azar[[\"preco\", \"idade_do_modelo\",\"km_por_ano\"]]\n",
        "y_azar = dados_azar[\"vendido\"]\n",
        "dados_azar.head()"
      ]
    },
    {
      "cell_type": "code",
      "execution_count": 3,
      "metadata": {
        "colab": {},
        "colab_type": "code",
        "id": "ZNT26vFEeYmz"
      },
      "outputs": [
        {
          "name": "stdout",
          "output_type": "stream",
          "text": [
            "Accuracy com dummy stratified, 10 = [58.00, 58.00]\n"
          ]
        }
      ],
      "source": [
        "# gerando um modelo DummyClassifier\n",
        "\n",
        "import numpy as np\n",
        "\n",
        "from sklearn.model_selection import cross_validate\n",
        "from sklearn.dummy import DummyClassifier\n",
        "\n",
        "SEED = 301\n",
        "np.random.seed(SEED)\n",
        "\n",
        "modelo = DummyClassifier()\n",
        "results = cross_validate(modelo, x_azar, y_azar, cv = 10, return_train_score=False)\n",
        "media = results['test_score'].mean()\n",
        "desvio_padrao = results['test_score'].std()\n",
        "print(\"Accuracy com dummy stratified, 10 = [%.2f, %.2f]\" % ((media - 2 * desvio_padrao)*100, (media + 2 * desvio_padrao) * 100))"
      ]
    },
    {
      "cell_type": "code",
      "execution_count": 4,
      "metadata": {
        "colab": {},
        "colab_type": "code",
        "id": "73mCcFA_eG_K"
      },
      "outputs": [
        {
          "name": "stdout",
          "output_type": "stream",
          "text": [
            "Accuracy com cross validation, 10 = [73.83, 77.73]\n"
          ]
        }
      ],
      "source": [
        "# gerando um modelo DecisionTreeClassifier com máxima profundidade de 2\n",
        "\n",
        "from sklearn.model_selection import cross_validate\n",
        "from sklearn.tree import DecisionTreeClassifier\n",
        "\n",
        "SEED = 301\n",
        "np.random.seed(SEED)\n",
        "\n",
        "modelo = DecisionTreeClassifier(max_depth=2)\n",
        "results = cross_validate(modelo, x_azar, y_azar, cv = 10, return_train_score=False)\n",
        "media = results['test_score'].mean()\n",
        "desvio_padrao = results['test_score'].std()\n",
        "print(\"Accuracy com cross validation, 10 = [%.2f, %.2f]\" % ((media - 2 * desvio_padrao)*100, (media + 2 * desvio_padrao) * 100))"
      ]
    },
    {
      "cell_type": "code",
      "execution_count": 5,
      "metadata": {
        "colab": {},
        "colab_type": "code",
        "id": "5C8Y6J-PGpYf"
      },
      "outputs": [
        {
          "data": {
            "text/html": [
              "<div>\n",
              "<style scoped>\n",
              "    .dataframe tbody tr th:only-of-type {\n",
              "        vertical-align: middle;\n",
              "    }\n",
              "\n",
              "    .dataframe tbody tr th {\n",
              "        vertical-align: top;\n",
              "    }\n",
              "\n",
              "    .dataframe thead th {\n",
              "        text-align: right;\n",
              "    }\n",
              "</style>\n",
              "<table border=\"1\" class=\"dataframe\">\n",
              "  <thead>\n",
              "    <tr style=\"text-align: right;\">\n",
              "      <th></th>\n",
              "      <th>preco</th>\n",
              "      <th>vendido</th>\n",
              "      <th>idade_do_modelo</th>\n",
              "      <th>km_por_ano</th>\n",
              "      <th>modelo</th>\n",
              "    </tr>\n",
              "  </thead>\n",
              "  <tbody>\n",
              "    <tr>\n",
              "      <th>0</th>\n",
              "      <td>30941.02</td>\n",
              "      <td>1</td>\n",
              "      <td>18</td>\n",
              "      <td>35085.22134</td>\n",
              "      <td>18</td>\n",
              "    </tr>\n",
              "    <tr>\n",
              "      <th>1</th>\n",
              "      <td>40557.96</td>\n",
              "      <td>1</td>\n",
              "      <td>20</td>\n",
              "      <td>12622.05362</td>\n",
              "      <td>24</td>\n",
              "    </tr>\n",
              "    <tr>\n",
              "      <th>2</th>\n",
              "      <td>89627.50</td>\n",
              "      <td>0</td>\n",
              "      <td>12</td>\n",
              "      <td>11440.79806</td>\n",
              "      <td>14</td>\n",
              "    </tr>\n",
              "    <tr>\n",
              "      <th>3</th>\n",
              "      <td>95276.14</td>\n",
              "      <td>0</td>\n",
              "      <td>3</td>\n",
              "      <td>43167.32682</td>\n",
              "      <td>6</td>\n",
              "    </tr>\n",
              "    <tr>\n",
              "      <th>4</th>\n",
              "      <td>117384.68</td>\n",
              "      <td>1</td>\n",
              "      <td>4</td>\n",
              "      <td>12770.11290</td>\n",
              "      <td>5</td>\n",
              "    </tr>\n",
              "  </tbody>\n",
              "</table>\n",
              "</div>"
            ],
            "text/plain": [
              "       preco  vendido  idade_do_modelo   km_por_ano  modelo\n",
              "0   30941.02        1               18  35085.22134      18\n",
              "1   40557.96        1               20  12622.05362      24\n",
              "2   89627.50        0               12  11440.79806      14\n",
              "3   95276.14        0                3  43167.32682       6\n",
              "4  117384.68        1                4  12770.11290       5"
            ]
          },
          "execution_count": 5,
          "metadata": {},
          "output_type": "execute_result"
        }
      ],
      "source": [
        "# gerando dados elatorios de modelo de carro para simulacao de agrupamento ao usar nosso estimador. a nova coluna modelo será uma variável categórica, não uma ordem nessa variável modelo\n",
        "\n",
        "np.random.seed(SEED)\n",
        "dados['modelo'] = dados.idade_do_modelo + np.random.randint(-2, 3, size=10000)\n",
        "dados.modelo = dados.modelo + abs(dados.modelo.min()) + 1\n",
        "dados.head()"
      ]
    },
    {
      "cell_type": "code",
      "execution_count": 6,
      "metadata": {
        "colab": {},
        "colab_type": "code",
        "id": "3hmjt7qPHOZY"
      },
      "outputs": [],
      "source": [
        "def imprime_resultados(results):\n",
        "  media = results['test_score'].mean() * 100\n",
        "  desvio = results['test_score'].std() * 100\n",
        "  print(\"Accuracy médio %.2f\" % media)\n",
        "  print(\"Intervalo [%.2f, %.2f]\" % (media - 2 * desvio, media + 2 * desvio))"
      ]
    },
    {
      "cell_type": "code",
      "execution_count": 7,
      "metadata": {
        "colab": {},
        "colab_type": "code",
        "id": "goijy0rSS7n-"
      },
      "outputs": [
        {
          "name": "stdout",
          "output_type": "stream",
          "text": [
            "Accuracy médio 76.68\n",
            "Intervalo [74.28, 79.08]\n"
          ]
        }
      ],
      "source": [
        "# GroupKFold em um pipeline com StandardScaler e SVC\n",
        "\n",
        "import numpy as np\n",
        "\n",
        "from sklearn.model_selection import GroupKFold\n",
        "from sklearn.preprocessing import StandardScaler\n",
        "from sklearn.svm import SVC\n",
        "from sklearn.pipeline import Pipeline\n",
        "\n",
        "SEED = 301\n",
        "np.random.seed(SEED)\n",
        "\n",
        "scaler = StandardScaler()\n",
        "modelo = SVC()\n",
        "\n",
        "pipeline = Pipeline([('transformacao',scaler), ('estimador',modelo)])\n",
        "\n",
        "cv = GroupKFold(n_splits = 10)\n",
        "results = cross_validate(pipeline, x_azar, y_azar, cv = cv, groups = dados.modelo, return_train_score=False)\n",
        "imprime_resultados(results)"
      ]
    },
    {
      "cell_type": "code",
      "execution_count": 8,
      "metadata": {
        "colab": {},
        "colab_type": "code",
        "id": "IKD8uaWkNcUL"
      },
      "outputs": [
        {
          "name": "stdout",
          "output_type": "stream",
          "text": [
            "Accuracy médio 75.78\n",
            "Intervalo [73.67, 77.90]\n"
          ]
        }
      ],
      "source": [
        "# GroupKFold para analisar como o modelo se comporta com novos grupos\n",
        "\n",
        "from sklearn.model_selection import GroupKFold\n",
        "\n",
        "SEED = 301\n",
        "np.random.seed(SEED)\n",
        "\n",
        "cv = GroupKFold(n_splits = 10)\n",
        "modelo = DecisionTreeClassifier(max_depth=2)\n",
        "results = cross_validate(modelo, x_azar, y_azar, cv = cv, groups = dados.modelo, return_train_score=False)\n",
        "imprime_resultados(results)"
      ]
    },
    {
      "cell_type": "code",
      "execution_count": 9,
      "metadata": {},
      "outputs": [
        {
          "data": {
            "image/svg+xml": "<?xml version=\"1.0\" encoding=\"UTF-8\" standalone=\"no\"?>\n<!DOCTYPE svg PUBLIC \"-//W3C//DTD SVG 1.1//EN\"\n \"http://www.w3.org/Graphics/SVG/1.1/DTD/svg11.dtd\">\n<!-- Generated by graphviz version 2.43.0 (0)\n -->\n<!-- Title: Tree Pages: 1 -->\n<svg width=\"595pt\" height=\"314pt\"\n viewBox=\"0.00 0.00 594.50 314.00\" xmlns=\"http://www.w3.org/2000/svg\" xmlns:xlink=\"http://www.w3.org/1999/xlink\">\n<g id=\"graph0\" class=\"graph\" transform=\"scale(1 1) rotate(0) translate(4 310)\">\n<title>Tree</title>\n<polygon fill=\"white\" stroke=\"transparent\" points=\"-4,4 -4,-310 590.5,-310 590.5,4 -4,4\"/>\n<!-- 0 -->\n<g id=\"node1\" class=\"node\">\n<title>0</title>\n<path fill=\"#c8e4f8\" stroke=\"black\" d=\"M341.5,-306C341.5,-306 225.5,-306 225.5,-306 219.5,-306 213.5,-300 213.5,-294 213.5,-294 213.5,-235 213.5,-235 213.5,-229 219.5,-223 225.5,-223 225.5,-223 341.5,-223 341.5,-223 347.5,-223 353.5,-229 353.5,-235 353.5,-235 353.5,-294 353.5,-294 353.5,-300 347.5,-306 341.5,-306\"/>\n<text text-anchor=\"middle\" x=\"283.5\" y=\"-290.8\" font-family=\"Helvetica,sans-Serif\" font-size=\"14.00\">preco &lt;= 59982.246</text>\n<text text-anchor=\"middle\" x=\"283.5\" y=\"-275.8\" font-family=\"Helvetica,sans-Serif\" font-size=\"14.00\">gini = 0.487</text>\n<text text-anchor=\"middle\" x=\"283.5\" y=\"-260.8\" font-family=\"Helvetica,sans-Serif\" font-size=\"14.00\">samples = 10000</text>\n<text text-anchor=\"middle\" x=\"283.5\" y=\"-245.8\" font-family=\"Helvetica,sans-Serif\" font-size=\"14.00\">value = [4200, 5800]</text>\n<text text-anchor=\"middle\" x=\"283.5\" y=\"-230.8\" font-family=\"Helvetica,sans-Serif\" font-size=\"14.00\">class = sim</text>\n</g>\n<!-- 1 -->\n<g id=\"node2\" class=\"node\">\n<title>1</title>\n<path fill=\"#52a9e8\" stroke=\"black\" d=\"M252.5,-187C252.5,-187 138.5,-187 138.5,-187 132.5,-187 126.5,-181 126.5,-175 126.5,-175 126.5,-116 126.5,-116 126.5,-110 132.5,-104 138.5,-104 138.5,-104 252.5,-104 252.5,-104 258.5,-104 264.5,-110 264.5,-116 264.5,-116 264.5,-175 264.5,-175 264.5,-181 258.5,-187 252.5,-187\"/>\n<text text-anchor=\"middle\" x=\"195.5\" y=\"-171.8\" font-family=\"Helvetica,sans-Serif\" font-size=\"14.00\">preco &lt;= 40083.385</text>\n<text text-anchor=\"middle\" x=\"195.5\" y=\"-156.8\" font-family=\"Helvetica,sans-Serif\" font-size=\"14.00\">gini = 0.198</text>\n<text text-anchor=\"middle\" x=\"195.5\" y=\"-141.8\" font-family=\"Helvetica,sans-Serif\" font-size=\"14.00\">samples = 4347</text>\n<text text-anchor=\"middle\" x=\"195.5\" y=\"-126.8\" font-family=\"Helvetica,sans-Serif\" font-size=\"14.00\">value = [484, 3863]</text>\n<text text-anchor=\"middle\" x=\"195.5\" y=\"-111.8\" font-family=\"Helvetica,sans-Serif\" font-size=\"14.00\">class = sim</text>\n</g>\n<!-- 0&#45;&gt;1 -->\n<g id=\"edge1\" class=\"edge\">\n<title>0&#45;&gt;1</title>\n<path fill=\"none\" stroke=\"black\" d=\"M252.97,-222.91C246.21,-213.92 238.98,-204.32 232.02,-195.05\"/>\n<polygon fill=\"black\" stroke=\"black\" points=\"234.79,-192.91 225.98,-187.02 229.19,-197.12 234.79,-192.91\"/>\n<text text-anchor=\"middle\" x=\"222.48\" y=\"-208.07\" font-family=\"Helvetica,sans-Serif\" font-size=\"14.00\">True</text>\n</g>\n<!-- 4 -->\n<g id=\"node5\" class=\"node\">\n<title>4</title>\n<path fill=\"#f3c3a0\" stroke=\"black\" d=\"M450.5,-187C450.5,-187 294.5,-187 294.5,-187 288.5,-187 282.5,-181 282.5,-175 282.5,-175 282.5,-116 282.5,-116 282.5,-110 288.5,-104 294.5,-104 294.5,-104 450.5,-104 450.5,-104 456.5,-104 462.5,-110 462.5,-116 462.5,-116 462.5,-175 462.5,-175 462.5,-181 456.5,-187 450.5,-187\"/>\n<text text-anchor=\"middle\" x=\"372.5\" y=\"-171.8\" font-family=\"Helvetica,sans-Serif\" font-size=\"14.00\">km_por_ano &lt;= 24124.006</text>\n<text text-anchor=\"middle\" x=\"372.5\" y=\"-156.8\" font-family=\"Helvetica,sans-Serif\" font-size=\"14.00\">gini = 0.45</text>\n<text text-anchor=\"middle\" x=\"372.5\" y=\"-141.8\" font-family=\"Helvetica,sans-Serif\" font-size=\"14.00\">samples = 5653</text>\n<text text-anchor=\"middle\" x=\"372.5\" y=\"-126.8\" font-family=\"Helvetica,sans-Serif\" font-size=\"14.00\">value = [3716, 1937]</text>\n<text text-anchor=\"middle\" x=\"372.5\" y=\"-111.8\" font-family=\"Helvetica,sans-Serif\" font-size=\"14.00\">class = não</text>\n</g>\n<!-- 0&#45;&gt;4 -->\n<g id=\"edge4\" class=\"edge\">\n<title>0&#45;&gt;4</title>\n<path fill=\"none\" stroke=\"black\" d=\"M314.38,-222.91C321.21,-213.92 328.52,-204.32 335.57,-195.05\"/>\n<polygon fill=\"black\" stroke=\"black\" points=\"338.41,-197.1 341.68,-187.02 332.84,-192.86 338.41,-197.1\"/>\n<text text-anchor=\"middle\" x=\"345.04\" y=\"-208.09\" font-family=\"Helvetica,sans-Serif\" font-size=\"14.00\">False</text>\n</g>\n<!-- 2 -->\n<g id=\"node3\" class=\"node\">\n<title>2</title>\n<path fill=\"#399de5\" stroke=\"black\" d=\"M105,-68C105,-68 12,-68 12,-68 6,-68 0,-62 0,-56 0,-56 0,-12 0,-12 0,-6 6,0 12,0 12,0 105,0 105,0 111,0 117,-6 117,-12 117,-12 117,-56 117,-56 117,-62 111,-68 105,-68\"/>\n<text text-anchor=\"middle\" x=\"58.5\" y=\"-52.8\" font-family=\"Helvetica,sans-Serif\" font-size=\"14.00\">gini = 0.0</text>\n<text text-anchor=\"middle\" x=\"58.5\" y=\"-37.8\" font-family=\"Helvetica,sans-Serif\" font-size=\"14.00\">samples = 1935</text>\n<text text-anchor=\"middle\" x=\"58.5\" y=\"-22.8\" font-family=\"Helvetica,sans-Serif\" font-size=\"14.00\">value = [0, 1935]</text>\n<text text-anchor=\"middle\" x=\"58.5\" y=\"-7.8\" font-family=\"Helvetica,sans-Serif\" font-size=\"14.00\">class = sim</text>\n</g>\n<!-- 1&#45;&gt;2 -->\n<g id=\"edge2\" class=\"edge\">\n<title>1&#45;&gt;2</title>\n<path fill=\"none\" stroke=\"black\" d=\"M144.49,-103.73C132.62,-94.24 120,-84.16 108.19,-74.72\"/>\n<polygon fill=\"black\" stroke=\"black\" points=\"110.16,-71.81 100.16,-68.3 105.79,-77.28 110.16,-71.81\"/>\n</g>\n<!-- 3 -->\n<g id=\"node4\" class=\"node\">\n<title>3</title>\n<path fill=\"#6bb6ec\" stroke=\"black\" d=\"M255.5,-68C255.5,-68 147.5,-68 147.5,-68 141.5,-68 135.5,-62 135.5,-56 135.5,-56 135.5,-12 135.5,-12 135.5,-6 141.5,0 147.5,0 147.5,0 255.5,0 255.5,0 261.5,0 267.5,-6 267.5,-12 267.5,-12 267.5,-56 267.5,-56 267.5,-62 261.5,-68 255.5,-68\"/>\n<text text-anchor=\"middle\" x=\"201.5\" y=\"-52.8\" font-family=\"Helvetica,sans-Serif\" font-size=\"14.00\">gini = 0.321</text>\n<text text-anchor=\"middle\" x=\"201.5\" y=\"-37.8\" font-family=\"Helvetica,sans-Serif\" font-size=\"14.00\">samples = 2412</text>\n<text text-anchor=\"middle\" x=\"201.5\" y=\"-22.8\" font-family=\"Helvetica,sans-Serif\" font-size=\"14.00\">value = [484, 1928]</text>\n<text text-anchor=\"middle\" x=\"201.5\" y=\"-7.8\" font-family=\"Helvetica,sans-Serif\" font-size=\"14.00\">class = sim</text>\n</g>\n<!-- 1&#45;&gt;3 -->\n<g id=\"edge3\" class=\"edge\">\n<title>1&#45;&gt;3</title>\n<path fill=\"none\" stroke=\"black\" d=\"M197.73,-103.73C198.18,-95.52 198.66,-86.86 199.11,-78.56\"/>\n<polygon fill=\"black\" stroke=\"black\" points=\"202.62,-78.48 199.68,-68.3 195.63,-78.09 202.62,-78.48\"/>\n</g>\n<!-- 5 -->\n<g id=\"node6\" class=\"node\">\n<title>5</title>\n<path fill=\"#fcefe5\" stroke=\"black\" d=\"M424.5,-68C424.5,-68 308.5,-68 308.5,-68 302.5,-68 296.5,-62 296.5,-56 296.5,-56 296.5,-12 296.5,-12 296.5,-6 302.5,0 308.5,0 308.5,0 424.5,0 424.5,0 430.5,0 436.5,-6 436.5,-12 436.5,-12 436.5,-56 436.5,-56 436.5,-62 430.5,-68 424.5,-68\"/>\n<text text-anchor=\"middle\" x=\"366.5\" y=\"-52.8\" font-family=\"Helvetica,sans-Serif\" font-size=\"14.00\">gini = 0.498</text>\n<text text-anchor=\"middle\" x=\"366.5\" y=\"-37.8\" font-family=\"Helvetica,sans-Serif\" font-size=\"14.00\">samples = 3513</text>\n<text text-anchor=\"middle\" x=\"366.5\" y=\"-22.8\" font-family=\"Helvetica,sans-Serif\" font-size=\"14.00\">value = [1879, 1634]</text>\n<text text-anchor=\"middle\" x=\"366.5\" y=\"-7.8\" font-family=\"Helvetica,sans-Serif\" font-size=\"14.00\">class = não</text>\n</g>\n<!-- 4&#45;&gt;5 -->\n<g id=\"edge5\" class=\"edge\">\n<title>4&#45;&gt;5</title>\n<path fill=\"none\" stroke=\"black\" d=\"M370.27,-103.73C369.82,-95.52 369.34,-86.86 368.89,-78.56\"/>\n<polygon fill=\"black\" stroke=\"black\" points=\"372.37,-78.09 368.32,-68.3 365.38,-78.48 372.37,-78.09\"/>\n</g>\n<!-- 6 -->\n<g id=\"node7\" class=\"node\">\n<title>6</title>\n<path fill=\"#e9965a\" stroke=\"black\" d=\"M574.5,-68C574.5,-68 466.5,-68 466.5,-68 460.5,-68 454.5,-62 454.5,-56 454.5,-56 454.5,-12 454.5,-12 454.5,-6 460.5,0 466.5,0 466.5,0 574.5,0 574.5,0 580.5,0 586.5,-6 586.5,-12 586.5,-12 586.5,-56 586.5,-56 586.5,-62 580.5,-68 574.5,-68\"/>\n<text text-anchor=\"middle\" x=\"520.5\" y=\"-52.8\" font-family=\"Helvetica,sans-Serif\" font-size=\"14.00\">gini = 0.243</text>\n<text text-anchor=\"middle\" x=\"520.5\" y=\"-37.8\" font-family=\"Helvetica,sans-Serif\" font-size=\"14.00\">samples = 2140</text>\n<text text-anchor=\"middle\" x=\"520.5\" y=\"-22.8\" font-family=\"Helvetica,sans-Serif\" font-size=\"14.00\">value = [1837, 303]</text>\n<text text-anchor=\"middle\" x=\"520.5\" y=\"-7.8\" font-family=\"Helvetica,sans-Serif\" font-size=\"14.00\">class = não</text>\n</g>\n<!-- 4&#45;&gt;6 -->\n<g id=\"edge6\" class=\"edge\">\n<title>4&#45;&gt;6</title>\n<path fill=\"none\" stroke=\"black\" d=\"M427.61,-103.73C440.55,-94.15 454.32,-83.96 467.19,-74.44\"/>\n<polygon fill=\"black\" stroke=\"black\" points=\"469.54,-77.06 475.49,-68.3 465.37,-71.43 469.54,-77.06\"/>\n</g>\n</g>\n</svg>\n",
            "text/plain": [
              "<graphviz.sources.Source at 0x7f012ecaf5b0>"
            ]
          },
          "execution_count": 9,
          "metadata": {},
          "output_type": "execute_result"
        }
      ],
      "source": [
        "from sklearn.tree import export_graphviz\n",
        "import graphviz\n",
        "\n",
        "modelo.fit(x_azar, y_azar)\n",
        "features = x_azar.columns\n",
        "dot_data = export_graphviz(modelo, out_file=None, filled=True, rounded=True, \n",
        "                class_names=[\"não\", \"sim\"], \n",
        "                feature_names =  features)\n",
        "\n",
        "graph = graphviz.Source(dot_data)\n",
        "graph"
      ]
    },
    {
      "cell_type": "code",
      "execution_count": 10,
      "metadata": {},
      "outputs": [],
      "source": [
        "# pip install pydot\n",
        "# pip install graphviz\n",
        "# apt-get install graphviz"
      ]
    },
    {
      "cell_type": "code",
      "execution_count": 11,
      "metadata": {},
      "outputs": [],
      "source": [
        "# Outros Atributos para o DecisionTreeClassifier\n",
        "\n",
        "# DecisionTreeClassifier(class_weight=None, criterion='gini', max_depth=2,\n",
        "#             max_features=None, max_leaf_nodes=None,\n",
        "#             min_impurity_decrease=0.0, min_impurity_split=None,\n",
        "#             min_samples_leaf=1, min_samples_split=2,\n",
        "#             min_weight_fraction_leaf=0.0, presort=False, random_state=None,\n",
        "#             splitter='best')"
      ]
    },
    {
      "cell_type": "code",
      "execution_count": 12,
      "metadata": {},
      "outputs": [
        {
          "name": "stdout",
          "output_type": "stream",
          "text": [
            "Accuracy médio 78.67\n",
            "Intervalo [76.40, 80.94]\n"
          ]
        }
      ],
      "source": [
        "# ESCOLHEMOS O DecisionTreeClassifier para o caso específico de classificação\n",
        "\n",
        "from sklearn.model_selection import GroupKFold\n",
        "\n",
        "SEED = 301\n",
        "np.random.seed(SEED)\n",
        "\n",
        "cv = GroupKFold(n_splits = 10)\n",
        "modelo = DecisionTreeClassifier(max_depth=3)\n",
        "results = cross_validate(modelo, x_azar, y_azar, cv = cv, groups = dados.modelo, return_train_score=False)\n",
        "imprime_resultados(results)"
      ]
    },
    {
      "cell_type": "code",
      "execution_count": 13,
      "metadata": {},
      "outputs": [
        {
          "data": {
            "image/svg+xml": "<?xml version=\"1.0\" encoding=\"UTF-8\" standalone=\"no\"?>\n<!DOCTYPE svg PUBLIC \"-//W3C//DTD SVG 1.1//EN\"\n \"http://www.w3.org/Graphics/SVG/1.1/DTD/svg11.dtd\">\n<!-- Generated by graphviz version 2.43.0 (0)\n -->\n<!-- Title: Tree Pages: 1 -->\n<svg width=\"866pt\" height=\"433pt\"\n viewBox=\"0.00 0.00 866.00 433.00\" xmlns=\"http://www.w3.org/2000/svg\" xmlns:xlink=\"http://www.w3.org/1999/xlink\">\n<g id=\"graph0\" class=\"graph\" transform=\"scale(1 1) rotate(0) translate(4 429)\">\n<title>Tree</title>\n<polygon fill=\"white\" stroke=\"transparent\" points=\"-4,4 -4,-429 862,-429 862,4 -4,4\"/>\n<!-- 0 -->\n<g id=\"node1\" class=\"node\">\n<title>0</title>\n<path fill=\"#c8e4f8\" stroke=\"black\" d=\"M350.5,-425C350.5,-425 234.5,-425 234.5,-425 228.5,-425 222.5,-419 222.5,-413 222.5,-413 222.5,-354 222.5,-354 222.5,-348 228.5,-342 234.5,-342 234.5,-342 350.5,-342 350.5,-342 356.5,-342 362.5,-348 362.5,-354 362.5,-354 362.5,-413 362.5,-413 362.5,-419 356.5,-425 350.5,-425\"/>\n<text text-anchor=\"middle\" x=\"292.5\" y=\"-409.8\" font-family=\"Helvetica,sans-Serif\" font-size=\"14.00\">preco &lt;= 59982.246</text>\n<text text-anchor=\"middle\" x=\"292.5\" y=\"-394.8\" font-family=\"Helvetica,sans-Serif\" font-size=\"14.00\">gini = 0.487</text>\n<text text-anchor=\"middle\" x=\"292.5\" y=\"-379.8\" font-family=\"Helvetica,sans-Serif\" font-size=\"14.00\">samples = 10000</text>\n<text text-anchor=\"middle\" x=\"292.5\" y=\"-364.8\" font-family=\"Helvetica,sans-Serif\" font-size=\"14.00\">value = [4200, 5800]</text>\n<text text-anchor=\"middle\" x=\"292.5\" y=\"-349.8\" font-family=\"Helvetica,sans-Serif\" font-size=\"14.00\">class = sim</text>\n</g>\n<!-- 1 -->\n<g id=\"node2\" class=\"node\">\n<title>1</title>\n<path fill=\"#52a9e8\" stroke=\"black\" d=\"M261.5,-306C261.5,-306 147.5,-306 147.5,-306 141.5,-306 135.5,-300 135.5,-294 135.5,-294 135.5,-235 135.5,-235 135.5,-229 141.5,-223 147.5,-223 147.5,-223 261.5,-223 261.5,-223 267.5,-223 273.5,-229 273.5,-235 273.5,-235 273.5,-294 273.5,-294 273.5,-300 267.5,-306 261.5,-306\"/>\n<text text-anchor=\"middle\" x=\"204.5\" y=\"-290.8\" font-family=\"Helvetica,sans-Serif\" font-size=\"14.00\">preco &lt;= 40083.385</text>\n<text text-anchor=\"middle\" x=\"204.5\" y=\"-275.8\" font-family=\"Helvetica,sans-Serif\" font-size=\"14.00\">gini = 0.198</text>\n<text text-anchor=\"middle\" x=\"204.5\" y=\"-260.8\" font-family=\"Helvetica,sans-Serif\" font-size=\"14.00\">samples = 4347</text>\n<text text-anchor=\"middle\" x=\"204.5\" y=\"-245.8\" font-family=\"Helvetica,sans-Serif\" font-size=\"14.00\">value = [484, 3863]</text>\n<text text-anchor=\"middle\" x=\"204.5\" y=\"-230.8\" font-family=\"Helvetica,sans-Serif\" font-size=\"14.00\">class = sim</text>\n</g>\n<!-- 0&#45;&gt;1 -->\n<g id=\"edge1\" class=\"edge\">\n<title>0&#45;&gt;1</title>\n<path fill=\"none\" stroke=\"black\" d=\"M261.97,-341.91C255.21,-332.92 247.98,-323.32 241.02,-314.05\"/>\n<polygon fill=\"black\" stroke=\"black\" points=\"243.79,-311.91 234.98,-306.02 238.19,-316.12 243.79,-311.91\"/>\n<text text-anchor=\"middle\" x=\"231.48\" y=\"-327.07\" font-family=\"Helvetica,sans-Serif\" font-size=\"14.00\">True</text>\n</g>\n<!-- 6 -->\n<g id=\"node7\" class=\"node\">\n<title>6</title>\n<path fill=\"#f3c3a0\" stroke=\"black\" d=\"M514.5,-306C514.5,-306 358.5,-306 358.5,-306 352.5,-306 346.5,-300 346.5,-294 346.5,-294 346.5,-235 346.5,-235 346.5,-229 352.5,-223 358.5,-223 358.5,-223 514.5,-223 514.5,-223 520.5,-223 526.5,-229 526.5,-235 526.5,-235 526.5,-294 526.5,-294 526.5,-300 520.5,-306 514.5,-306\"/>\n<text text-anchor=\"middle\" x=\"436.5\" y=\"-290.8\" font-family=\"Helvetica,sans-Serif\" font-size=\"14.00\">km_por_ano &lt;= 24124.006</text>\n<text text-anchor=\"middle\" x=\"436.5\" y=\"-275.8\" font-family=\"Helvetica,sans-Serif\" font-size=\"14.00\">gini = 0.45</text>\n<text text-anchor=\"middle\" x=\"436.5\" y=\"-260.8\" font-family=\"Helvetica,sans-Serif\" font-size=\"14.00\">samples = 5653</text>\n<text text-anchor=\"middle\" x=\"436.5\" y=\"-245.8\" font-family=\"Helvetica,sans-Serif\" font-size=\"14.00\">value = [3716, 1937]</text>\n<text text-anchor=\"middle\" x=\"436.5\" y=\"-230.8\" font-family=\"Helvetica,sans-Serif\" font-size=\"14.00\">class = não</text>\n</g>\n<!-- 0&#45;&gt;6 -->\n<g id=\"edge6\" class=\"edge\">\n<title>0&#45;&gt;6</title>\n<path fill=\"none\" stroke=\"black\" d=\"M342.46,-341.91C354.19,-332.38 366.78,-322.15 378.81,-312.37\"/>\n<polygon fill=\"black\" stroke=\"black\" points=\"381.07,-315.04 386.63,-306.02 376.66,-309.61 381.07,-315.04\"/>\n<text text-anchor=\"middle\" x=\"384.06\" y=\"-327.19\" font-family=\"Helvetica,sans-Serif\" font-size=\"14.00\">False</text>\n</g>\n<!-- 2 -->\n<g id=\"node3\" class=\"node\">\n<title>2</title>\n<path fill=\"#399de5\" stroke=\"black\" d=\"M105,-179.5C105,-179.5 12,-179.5 12,-179.5 6,-179.5 0,-173.5 0,-167.5 0,-167.5 0,-123.5 0,-123.5 0,-117.5 6,-111.5 12,-111.5 12,-111.5 105,-111.5 105,-111.5 111,-111.5 117,-117.5 117,-123.5 117,-123.5 117,-167.5 117,-167.5 117,-173.5 111,-179.5 105,-179.5\"/>\n<text text-anchor=\"middle\" x=\"58.5\" y=\"-164.3\" font-family=\"Helvetica,sans-Serif\" font-size=\"14.00\">gini = 0.0</text>\n<text text-anchor=\"middle\" x=\"58.5\" y=\"-149.3\" font-family=\"Helvetica,sans-Serif\" font-size=\"14.00\">samples = 1935</text>\n<text text-anchor=\"middle\" x=\"58.5\" y=\"-134.3\" font-family=\"Helvetica,sans-Serif\" font-size=\"14.00\">value = [0, 1935]</text>\n<text text-anchor=\"middle\" x=\"58.5\" y=\"-119.3\" font-family=\"Helvetica,sans-Serif\" font-size=\"14.00\">class = sim</text>\n</g>\n<!-- 1&#45;&gt;2 -->\n<g id=\"edge2\" class=\"edge\">\n<title>1&#45;&gt;2</title>\n<path fill=\"none\" stroke=\"black\" d=\"M153.85,-222.91C138.97,-210.99 122.73,-197.98 107.94,-186.12\"/>\n<polygon fill=\"black\" stroke=\"black\" points=\"109.88,-183.19 99.89,-179.67 105.5,-188.65 109.88,-183.19\"/>\n</g>\n<!-- 3 -->\n<g id=\"node4\" class=\"node\">\n<title>3</title>\n<path fill=\"#6bb6ec\" stroke=\"black\" d=\"M261.5,-187C261.5,-187 147.5,-187 147.5,-187 141.5,-187 135.5,-181 135.5,-175 135.5,-175 135.5,-116 135.5,-116 135.5,-110 141.5,-104 147.5,-104 147.5,-104 261.5,-104 261.5,-104 267.5,-104 273.5,-110 273.5,-116 273.5,-116 273.5,-175 273.5,-175 273.5,-181 267.5,-187 261.5,-187\"/>\n<text text-anchor=\"middle\" x=\"204.5\" y=\"-171.8\" font-family=\"Helvetica,sans-Serif\" font-size=\"14.00\">preco &lt;= 41083.029</text>\n<text text-anchor=\"middle\" x=\"204.5\" y=\"-156.8\" font-family=\"Helvetica,sans-Serif\" font-size=\"14.00\">gini = 0.321</text>\n<text text-anchor=\"middle\" x=\"204.5\" y=\"-141.8\" font-family=\"Helvetica,sans-Serif\" font-size=\"14.00\">samples = 2412</text>\n<text text-anchor=\"middle\" x=\"204.5\" y=\"-126.8\" font-family=\"Helvetica,sans-Serif\" font-size=\"14.00\">value = [484, 1928]</text>\n<text text-anchor=\"middle\" x=\"204.5\" y=\"-111.8\" font-family=\"Helvetica,sans-Serif\" font-size=\"14.00\">class = sim</text>\n</g>\n<!-- 1&#45;&gt;3 -->\n<g id=\"edge3\" class=\"edge\">\n<title>1&#45;&gt;3</title>\n<path fill=\"none\" stroke=\"black\" d=\"M204.5,-222.91C204.5,-214.65 204.5,-205.86 204.5,-197.3\"/>\n<polygon fill=\"black\" stroke=\"black\" points=\"208,-197.02 204.5,-187.02 201,-197.02 208,-197.02\"/>\n</g>\n<!-- 4 -->\n<g id=\"node5\" class=\"node\">\n<title>4</title>\n<path fill=\"#95cbf1\" stroke=\"black\" d=\"M108.5,-68C108.5,-68 22.5,-68 22.5,-68 16.5,-68 10.5,-62 10.5,-56 10.5,-56 10.5,-12 10.5,-12 10.5,-6 16.5,0 22.5,0 22.5,0 108.5,0 108.5,0 114.5,0 120.5,-6 120.5,-12 120.5,-12 120.5,-56 120.5,-56 120.5,-62 114.5,-68 108.5,-68\"/>\n<text text-anchor=\"middle\" x=\"65.5\" y=\"-52.8\" font-family=\"Helvetica,sans-Serif\" font-size=\"14.00\">gini = 0.434</text>\n<text text-anchor=\"middle\" x=\"65.5\" y=\"-37.8\" font-family=\"Helvetica,sans-Serif\" font-size=\"14.00\">samples = 110</text>\n<text text-anchor=\"middle\" x=\"65.5\" y=\"-22.8\" font-family=\"Helvetica,sans-Serif\" font-size=\"14.00\">value = [35, 75]</text>\n<text text-anchor=\"middle\" x=\"65.5\" y=\"-7.8\" font-family=\"Helvetica,sans-Serif\" font-size=\"14.00\">class = sim</text>\n</g>\n<!-- 3&#45;&gt;4 -->\n<g id=\"edge4\" class=\"edge\">\n<title>3&#45;&gt;4</title>\n<path fill=\"none\" stroke=\"black\" d=\"M152.74,-103.73C140.7,-94.24 127.9,-84.16 115.92,-74.72\"/>\n<polygon fill=\"black\" stroke=\"black\" points=\"117.79,-71.74 107.77,-68.3 113.46,-77.24 117.79,-71.74\"/>\n</g>\n<!-- 5 -->\n<g id=\"node6\" class=\"node\">\n<title>5</title>\n<path fill=\"#69b5eb\" stroke=\"black\" d=\"M258.5,-68C258.5,-68 150.5,-68 150.5,-68 144.5,-68 138.5,-62 138.5,-56 138.5,-56 138.5,-12 138.5,-12 138.5,-6 144.5,0 150.5,0 150.5,0 258.5,0 258.5,0 264.5,0 270.5,-6 270.5,-12 270.5,-12 270.5,-56 270.5,-56 270.5,-62 264.5,-68 258.5,-68\"/>\n<text text-anchor=\"middle\" x=\"204.5\" y=\"-52.8\" font-family=\"Helvetica,sans-Serif\" font-size=\"14.00\">gini = 0.314</text>\n<text text-anchor=\"middle\" x=\"204.5\" y=\"-37.8\" font-family=\"Helvetica,sans-Serif\" font-size=\"14.00\">samples = 2302</text>\n<text text-anchor=\"middle\" x=\"204.5\" y=\"-22.8\" font-family=\"Helvetica,sans-Serif\" font-size=\"14.00\">value = [449, 1853]</text>\n<text text-anchor=\"middle\" x=\"204.5\" y=\"-7.8\" font-family=\"Helvetica,sans-Serif\" font-size=\"14.00\">class = sim</text>\n</g>\n<!-- 3&#45;&gt;5 -->\n<g id=\"edge5\" class=\"edge\">\n<title>3&#45;&gt;5</title>\n<path fill=\"none\" stroke=\"black\" d=\"M204.5,-103.73C204.5,-95.52 204.5,-86.86 204.5,-78.56\"/>\n<polygon fill=\"black\" stroke=\"black\" points=\"208,-78.3 204.5,-68.3 201,-78.3 208,-78.3\"/>\n</g>\n<!-- 7 -->\n<g id=\"node8\" class=\"node\">\n<title>7</title>\n<path fill=\"#fcefe5\" stroke=\"black\" d=\"M494.5,-187C494.5,-187 378.5,-187 378.5,-187 372.5,-187 366.5,-181 366.5,-175 366.5,-175 366.5,-116 366.5,-116 366.5,-110 372.5,-104 378.5,-104 378.5,-104 494.5,-104 494.5,-104 500.5,-104 506.5,-110 506.5,-116 506.5,-116 506.5,-175 506.5,-175 506.5,-181 500.5,-187 494.5,-187\"/>\n<text text-anchor=\"middle\" x=\"436.5\" y=\"-171.8\" font-family=\"Helvetica,sans-Serif\" font-size=\"14.00\">preco &lt;= 99974.41</text>\n<text text-anchor=\"middle\" x=\"436.5\" y=\"-156.8\" font-family=\"Helvetica,sans-Serif\" font-size=\"14.00\">gini = 0.498</text>\n<text text-anchor=\"middle\" x=\"436.5\" y=\"-141.8\" font-family=\"Helvetica,sans-Serif\" font-size=\"14.00\">samples = 3513</text>\n<text text-anchor=\"middle\" x=\"436.5\" y=\"-126.8\" font-family=\"Helvetica,sans-Serif\" font-size=\"14.00\">value = [1879, 1634]</text>\n<text text-anchor=\"middle\" x=\"436.5\" y=\"-111.8\" font-family=\"Helvetica,sans-Serif\" font-size=\"14.00\">class = não</text>\n</g>\n<!-- 6&#45;&gt;7 -->\n<g id=\"edge7\" class=\"edge\">\n<title>6&#45;&gt;7</title>\n<path fill=\"none\" stroke=\"black\" d=\"M436.5,-222.91C436.5,-214.65 436.5,-205.86 436.5,-197.3\"/>\n<polygon fill=\"black\" stroke=\"black\" points=\"440,-197.02 436.5,-187.02 433,-197.02 440,-197.02\"/>\n</g>\n<!-- 10 -->\n<g id=\"node11\" class=\"node\">\n<title>10</title>\n<path fill=\"#e9965a\" stroke=\"black\" d=\"M713.5,-187C713.5,-187 591.5,-187 591.5,-187 585.5,-187 579.5,-181 579.5,-175 579.5,-175 579.5,-116 579.5,-116 579.5,-110 585.5,-104 591.5,-104 591.5,-104 713.5,-104 713.5,-104 719.5,-104 725.5,-110 725.5,-116 725.5,-116 725.5,-175 725.5,-175 725.5,-181 719.5,-187 713.5,-187\"/>\n<text text-anchor=\"middle\" x=\"652.5\" y=\"-171.8\" font-family=\"Helvetica,sans-Serif\" font-size=\"14.00\">preco &lt;= 100076.957</text>\n<text text-anchor=\"middle\" x=\"652.5\" y=\"-156.8\" font-family=\"Helvetica,sans-Serif\" font-size=\"14.00\">gini = 0.243</text>\n<text text-anchor=\"middle\" x=\"652.5\" y=\"-141.8\" font-family=\"Helvetica,sans-Serif\" font-size=\"14.00\">samples = 2140</text>\n<text text-anchor=\"middle\" x=\"652.5\" y=\"-126.8\" font-family=\"Helvetica,sans-Serif\" font-size=\"14.00\">value = [1837, 303]</text>\n<text text-anchor=\"middle\" x=\"652.5\" y=\"-111.8\" font-family=\"Helvetica,sans-Serif\" font-size=\"14.00\">class = não</text>\n</g>\n<!-- 6&#45;&gt;10 -->\n<g id=\"edge10\" class=\"edge\">\n<title>6&#45;&gt;10</title>\n<path fill=\"none\" stroke=\"black\" d=\"M511.44,-222.91C530.46,-212.61 550.99,-201.48 570.35,-191\"/>\n<polygon fill=\"black\" stroke=\"black\" points=\"572.03,-194.07 579.15,-186.23 568.69,-187.92 572.03,-194.07\"/>\n</g>\n<!-- 8 -->\n<g id=\"node9\" class=\"node\">\n<title>8</title>\n<path fill=\"#f9e0ce\" stroke=\"black\" d=\"M416.5,-68C416.5,-68 300.5,-68 300.5,-68 294.5,-68 288.5,-62 288.5,-56 288.5,-56 288.5,-12 288.5,-12 288.5,-6 294.5,0 300.5,0 300.5,0 416.5,0 416.5,0 422.5,0 428.5,-6 428.5,-12 428.5,-12 428.5,-56 428.5,-56 428.5,-62 422.5,-68 416.5,-68\"/>\n<text text-anchor=\"middle\" x=\"358.5\" y=\"-52.8\" font-family=\"Helvetica,sans-Serif\" font-size=\"14.00\">gini = 0.49</text>\n<text text-anchor=\"middle\" x=\"358.5\" y=\"-37.8\" font-family=\"Helvetica,sans-Serif\" font-size=\"14.00\">samples = 2944</text>\n<text text-anchor=\"middle\" x=\"358.5\" y=\"-22.8\" font-family=\"Helvetica,sans-Serif\" font-size=\"14.00\">value = [1682, 1262]</text>\n<text text-anchor=\"middle\" x=\"358.5\" y=\"-7.8\" font-family=\"Helvetica,sans-Serif\" font-size=\"14.00\">class = não</text>\n</g>\n<!-- 7&#45;&gt;8 -->\n<g id=\"edge8\" class=\"edge\">\n<title>7&#45;&gt;8</title>\n<path fill=\"none\" stroke=\"black\" d=\"M407.46,-103.73C401.15,-94.88 394.48,-85.51 388.15,-76.63\"/>\n<polygon fill=\"black\" stroke=\"black\" points=\"390.87,-74.41 382.22,-68.3 385.17,-78.48 390.87,-74.41\"/>\n</g>\n<!-- 9 -->\n<g id=\"node10\" class=\"node\">\n<title>9</title>\n<path fill=\"#a2d1f3\" stroke=\"black\" d=\"M560,-68C560,-68 459,-68 459,-68 453,-68 447,-62 447,-56 447,-56 447,-12 447,-12 447,-6 453,0 459,0 459,0 560,0 560,0 566,0 572,-6 572,-12 572,-12 572,-56 572,-56 572,-62 566,-68 560,-68\"/>\n<text text-anchor=\"middle\" x=\"509.5\" y=\"-52.8\" font-family=\"Helvetica,sans-Serif\" font-size=\"14.00\">gini = 0.453</text>\n<text text-anchor=\"middle\" x=\"509.5\" y=\"-37.8\" font-family=\"Helvetica,sans-Serif\" font-size=\"14.00\">samples = 569</text>\n<text text-anchor=\"middle\" x=\"509.5\" y=\"-22.8\" font-family=\"Helvetica,sans-Serif\" font-size=\"14.00\">value = [197, 372]</text>\n<text text-anchor=\"middle\" x=\"509.5\" y=\"-7.8\" font-family=\"Helvetica,sans-Serif\" font-size=\"14.00\">class = sim</text>\n</g>\n<!-- 7&#45;&gt;9 -->\n<g id=\"edge9\" class=\"edge\">\n<title>7&#45;&gt;9</title>\n<path fill=\"none\" stroke=\"black\" d=\"M463.68,-103.73C469.58,-94.88 475.83,-85.51 481.75,-76.63\"/>\n<polygon fill=\"black\" stroke=\"black\" points=\"484.67,-78.56 487.3,-68.3 478.84,-74.68 484.67,-78.56\"/>\n</g>\n<!-- 11 -->\n<g id=\"node12\" class=\"node\">\n<title>11</title>\n<path fill=\"#e68742\" stroke=\"black\" d=\"M703,-68C703,-68 602,-68 602,-68 596,-68 590,-62 590,-56 590,-56 590,-12 590,-12 590,-6 596,0 602,0 602,0 703,0 703,0 709,0 715,-6 715,-12 715,-12 715,-56 715,-56 715,-62 709,-68 703,-68\"/>\n<text text-anchor=\"middle\" x=\"652.5\" y=\"-52.8\" font-family=\"Helvetica,sans-Serif\" font-size=\"14.00\">gini = 0.082</text>\n<text text-anchor=\"middle\" x=\"652.5\" y=\"-37.8\" font-family=\"Helvetica,sans-Serif\" font-size=\"14.00\">samples = 1809</text>\n<text text-anchor=\"middle\" x=\"652.5\" y=\"-22.8\" font-family=\"Helvetica,sans-Serif\" font-size=\"14.00\">value = [1732, 77]</text>\n<text text-anchor=\"middle\" x=\"652.5\" y=\"-7.8\" font-family=\"Helvetica,sans-Serif\" font-size=\"14.00\">class = não</text>\n</g>\n<!-- 10&#45;&gt;11 -->\n<g id=\"edge11\" class=\"edge\">\n<title>10&#45;&gt;11</title>\n<path fill=\"none\" stroke=\"black\" d=\"M652.5,-103.73C652.5,-95.52 652.5,-86.86 652.5,-78.56\"/>\n<polygon fill=\"black\" stroke=\"black\" points=\"656,-78.3 652.5,-68.3 649,-78.3 656,-78.3\"/>\n</g>\n<!-- 12 -->\n<g id=\"node13\" class=\"node\">\n<title>12</title>\n<path fill=\"#95cbf1\" stroke=\"black\" d=\"M846,-68C846,-68 745,-68 745,-68 739,-68 733,-62 733,-56 733,-56 733,-12 733,-12 733,-6 739,0 745,0 745,0 846,0 846,0 852,0 858,-6 858,-12 858,-12 858,-56 858,-56 858,-62 852,-68 846,-68\"/>\n<text text-anchor=\"middle\" x=\"795.5\" y=\"-52.8\" font-family=\"Helvetica,sans-Serif\" font-size=\"14.00\">gini = 0.433</text>\n<text text-anchor=\"middle\" x=\"795.5\" y=\"-37.8\" font-family=\"Helvetica,sans-Serif\" font-size=\"14.00\">samples = 331</text>\n<text text-anchor=\"middle\" x=\"795.5\" y=\"-22.8\" font-family=\"Helvetica,sans-Serif\" font-size=\"14.00\">value = [105, 226]</text>\n<text text-anchor=\"middle\" x=\"795.5\" y=\"-7.8\" font-family=\"Helvetica,sans-Serif\" font-size=\"14.00\">class = sim</text>\n</g>\n<!-- 10&#45;&gt;12 -->\n<g id=\"edge12\" class=\"edge\">\n<title>10&#45;&gt;12</title>\n<path fill=\"none\" stroke=\"black\" d=\"M705.75,-103.73C718.25,-94.15 731.56,-83.96 743.99,-74.44\"/>\n<polygon fill=\"black\" stroke=\"black\" points=\"746.2,-77.16 752.01,-68.3 741.95,-71.6 746.2,-77.16\"/>\n</g>\n</g>\n</svg>\n",
            "text/plain": [
              "<graphviz.sources.Source at 0x7f01174bd9f0>"
            ]
          },
          "execution_count": 13,
          "metadata": {},
          "output_type": "execute_result"
        }
      ],
      "source": [
        "from sklearn.tree import export_graphviz\n",
        "import graphviz\n",
        "\n",
        "modelo.fit(x_azar, y_azar)\n",
        "features = x_azar.columns\n",
        "dot_data = export_graphviz(modelo, out_file=None, filled=True, rounded=True, \n",
        "                class_names=[\"não\", \"sim\"], \n",
        "                feature_names =  features)\n",
        "\n",
        "graph = graphviz.Source(dot_data)\n",
        "graph"
      ]
    },
    {
      "cell_type": "code",
      "execution_count": 14,
      "metadata": {},
      "outputs": [
        {
          "name": "stdout",
          "output_type": "stream",
          "text": [
            "Accuracy médio 77.19\n",
            "Intervalo [75.26, 79.13]\n"
          ]
        }
      ],
      "source": [
        "from sklearn.model_selection import GroupKFold\n",
        "\n",
        "SEED = 301\n",
        "np.random.seed(SEED)\n",
        "\n",
        "cv = GroupKFold(n_splits = 10)\n",
        "modelo = DecisionTreeClassifier(max_depth=10)\n",
        "results = cross_validate(modelo, x_azar, y_azar, cv = cv, groups = dados.modelo, return_train_score=False)\n",
        "imprime_resultados(results)"
      ]
    },
    {
      "cell_type": "markdown",
      "metadata": {},
      "source": [
        "### 2. Quanto mais complexa a árvore, melhor ? Testando parâmetros."
      ]
    },
    {
      "cell_type": "code",
      "execution_count": 15,
      "metadata": {},
      "outputs": [
        {
          "name": "stdout",
          "output_type": "stream",
          "text": [
            "Árvore max_depth = 1, media =75.78\n",
            "Árvore max_depth = 2, media =75.78\n",
            "Árvore max_depth = 3, media =78.67\n",
            "Árvore max_depth = 4, media =78.63\n",
            "Árvore max_depth = 5, media =78.56\n",
            "Árvore max_depth = 6, media =78.12\n",
            "Árvore max_depth = 7, media =77.96\n",
            "Árvore max_depth = 8, media =77.86\n",
            "Árvore max_depth = 9, media =77.38\n",
            "Árvore max_depth = 10, media =77.19\n",
            "Árvore max_depth = 11, media =76.97\n",
            "Árvore max_depth = 12, media =76.49\n",
            "Árvore max_depth = 13, media =75.81\n",
            "Árvore max_depth = 14, media =75.66\n",
            "Árvore max_depth = 15, media =75.16\n",
            "Árvore max_depth = 16, media =75.11\n",
            "Árvore max_depth = 17, media =74.74\n",
            "Árvore max_depth = 18, media =74.33\n",
            "Árvore max_depth = 19, media =74.34\n",
            "Árvore max_depth = 20, media =74.22\n",
            "Árvore max_depth = 21, media =73.80\n",
            "Árvore max_depth = 22, media =73.81\n",
            "Árvore max_depth = 23, media =73.38\n",
            "Árvore max_depth = 24, media =73.43\n",
            "Árvore max_depth = 25, media =73.14\n",
            "Árvore max_depth = 26, media =73.04\n",
            "Árvore max_depth = 27, media =72.91\n",
            "Árvore max_depth = 28, media =72.66\n",
            "Árvore max_depth = 29, media =72.73\n",
            "Árvore max_depth = 30, media =72.81\n",
            "Árvore max_depth = 31, media =72.86\n",
            "Árvore max_depth = 32, media =72.52\n"
          ]
        }
      ],
      "source": [
        "from sklearn.model_selection import GroupKFold\n",
        "\n",
        "def roda_arvore_de_decisao(max_depth):\n",
        "\n",
        "# --- código original com max_depth = max\n",
        "  SEED = 301\n",
        "  np.random.seed(SEED)\n",
        "\n",
        "  cv = GroupKFold(n_splits = 10)\n",
        "  modelo = DecisionTreeClassifier(max_depth=max_depth)\n",
        "  results = cross_validate(modelo, x_azar, y_azar, cv = cv, groups = dados.modelo, return_train_score=False)\n",
        "# --- código original\n",
        "\n",
        "  print(\"Árvore max_depth = %d, media =%.2f\" % (max_depth, results['test_score'].mean() * 100))\n",
        "\n",
        "for i in range (1, 33):\n",
        "      roda_arvore_de_decisao(i)"
      ]
    },
    {
      "cell_type": "markdown",
      "metadata": {},
      "source": [
        "### 3. Otimizando um hiper parâmetro e o problema do overfit"
      ]
    },
    {
      "cell_type": "code",
      "execution_count": 16,
      "metadata": {},
      "outputs": [
        {
          "name": "stdout",
          "output_type": "stream",
          "text": [
            "Arvore max_depth = 1, treino = 75.79, teste = 75.78,\n",
            "Arvore max_depth = 2, treino = 75.79, teste = 75.78,\n",
            "Arvore max_depth = 3, treino = 78.75, teste = 78.67,\n",
            "Arvore max_depth = 4, treino = 78.79, teste = 78.63,\n",
            "Arvore max_depth = 5, treino = 78.94, teste = 78.56,\n",
            "Arvore max_depth = 6, treino = 79.17, teste = 78.12,\n",
            "Arvore max_depth = 7, treino = 79.50, teste = 77.96,\n",
            "Arvore max_depth = 8, treino = 79.89, teste = 77.86,\n",
            "Arvore max_depth = 9, treino = 80.46, teste = 77.38,\n",
            "Arvore max_depth = 10, treino = 81.16, teste = 77.19,\n",
            "Arvore max_depth = 11, treino = 82.03, teste = 76.97,\n",
            "Arvore max_depth = 12, treino = 82.89, teste = 76.49,\n",
            "Arvore max_depth = 13, treino = 83.95, teste = 75.81,\n",
            "Arvore max_depth = 14, treino = 85.03, teste = 75.66,\n",
            "Arvore max_depth = 15, treino = 86.14, teste = 75.16,\n",
            "Arvore max_depth = 16, treino = 87.19, teste = 75.11,\n",
            "Arvore max_depth = 17, treino = 88.31, teste = 74.74,\n",
            "Arvore max_depth = 18, treino = 89.26, teste = 74.33,\n",
            "Arvore max_depth = 19, treino = 90.32, teste = 74.34,\n",
            "Arvore max_depth = 20, treino = 91.32, teste = 74.22,\n",
            "Arvore max_depth = 21, treino = 92.14, teste = 73.80,\n",
            "Arvore max_depth = 22, treino = 93.02, teste = 73.81,\n",
            "Arvore max_depth = 23, treino = 93.80, teste = 73.38,\n",
            "Arvore max_depth = 24, treino = 94.47, teste = 73.43,\n",
            "Arvore max_depth = 25, treino = 95.16, teste = 73.14,\n",
            "Arvore max_depth = 26, treino = 95.74, teste = 73.04,\n",
            "Arvore max_depth = 27, treino = 96.33, teste = 72.91,\n",
            "Arvore max_depth = 28, treino = 96.75, teste = 72.66,\n",
            "Arvore max_depth = 29, treino = 97.10, teste = 72.73,\n",
            "Arvore max_depth = 30, treino = 97.43, teste = 72.81,\n",
            "Arvore max_depth = 31, treino = 97.80, teste = 72.86,\n",
            "Arvore max_depth = 32, treino = 98.10, teste = 72.52,\n"
          ]
        },
        {
          "data": {
            "text/html": [
              "<div>\n",
              "<style scoped>\n",
              "    .dataframe tbody tr th:only-of-type {\n",
              "        vertical-align: middle;\n",
              "    }\n",
              "\n",
              "    .dataframe tbody tr th {\n",
              "        vertical-align: top;\n",
              "    }\n",
              "\n",
              "    .dataframe thead th {\n",
              "        text-align: right;\n",
              "    }\n",
              "</style>\n",
              "<table border=\"1\" class=\"dataframe\">\n",
              "  <thead>\n",
              "    <tr style=\"text-align: right;\">\n",
              "      <th></th>\n",
              "      <th>max_depth</th>\n",
              "      <th>train_score</th>\n",
              "      <th>test_score</th>\n",
              "    </tr>\n",
              "  </thead>\n",
              "  <tbody>\n",
              "    <tr>\n",
              "      <th>0</th>\n",
              "      <td>1</td>\n",
              "      <td>75.791169</td>\n",
              "      <td>75.784219</td>\n",
              "    </tr>\n",
              "    <tr>\n",
              "      <th>1</th>\n",
              "      <td>2</td>\n",
              "      <td>75.791169</td>\n",
              "      <td>75.784219</td>\n",
              "    </tr>\n",
              "    <tr>\n",
              "      <th>2</th>\n",
              "      <td>3</td>\n",
              "      <td>78.750993</td>\n",
              "      <td>78.672633</td>\n",
              "    </tr>\n",
              "    <tr>\n",
              "      <th>3</th>\n",
              "      <td>4</td>\n",
              "      <td>78.787628</td>\n",
              "      <td>78.632803</td>\n",
              "    </tr>\n",
              "    <tr>\n",
              "      <th>4</th>\n",
              "      <td>5</td>\n",
              "      <td>78.941007</td>\n",
              "      <td>78.555912</td>\n",
              "    </tr>\n",
              "  </tbody>\n",
              "</table>\n",
              "</div>"
            ],
            "text/plain": [
              "   max_depth  train_score  test_score\n",
              "0          1    75.791169   75.784219\n",
              "1          2    75.791169   75.784219\n",
              "2          3    78.750993   78.672633\n",
              "3          4    78.787628   78.632803\n",
              "4          5    78.941007   78.555912"
            ]
          },
          "execution_count": 16,
          "metadata": {},
          "output_type": "execute_result"
        }
      ],
      "source": [
        "from sklearn.model_selection import GroupKFold\n",
        "\n",
        "def roda_arvore_de_decisao(max_depth):\n",
        "  SEED = 301\n",
        "  np.random.seed(SEED)\n",
        "\n",
        "  cv = GroupKFold(n_splits = 10)\n",
        "  modelo = DecisionTreeClassifier(max_depth=max_depth)\n",
        "  results = cross_validate(modelo, x_azar, y_azar, cv = cv, groups = dados.modelo, return_train_score=True)\n",
        "  train_score = results['train_score'].mean() * 100\n",
        "  test_score = results['test_score'].mean() * 100\n",
        "  print(\"Arvore max_depth = %d, treino = %.2f, teste = %.2f,\" % (max_depth, results['train_score'].mean() * 100, results['test_score'].mean() * 100))\n",
        "  tabela = [max_depth, train_score, test_score]\n",
        "  return tabela\n",
        "\n",
        "resultados = [roda_arvore_de_decisao(i) for i in range (1, 33)]\n",
        "resultados = pd.DataFrame(resultados, columns=['max_depth', 'train_score', 'test_score'])\n",
        "resultados.head()"
      ]
    },
    {
      "cell_type": "code",
      "execution_count": 17,
      "metadata": {},
      "outputs": [
        {
          "data": {
            "text/plain": [
              "<matplotlib.legend.Legend at 0x7f0117527880>"
            ]
          },
          "execution_count": 17,
          "metadata": {},
          "output_type": "execute_result"
        },
        {
          "data": {
            "image/png": "[encoded data removed]",
            "text/plain": [
              "<Figure size 432x288 with 1 Axes>"
            ]
          },
          "metadata": {
            "needs_background": "light"
          },
          "output_type": "display_data"
        }
      ],
      "source": [
        "import seaborn as sns\n",
        "import matplotlib.pyplot as plt\n",
        "\n",
        "sns.lineplot(x = \"max_depth\", y = \"train_score\", data = resultados)\n",
        "sns.lineplot(x = \"max_depth\", y = \"test_score\", data = resultados)\n",
        "plt.legend([\"Treino\", \"Teste\"])\n",
        "# aconteceu um over fit no treino e cada vez pior nos testes"
      ]
    },
    {
      "cell_type": "code",
      "execution_count": 18,
      "metadata": {},
      "outputs": [
        {
          "data": {
            "text/html": [
              "<div>\n",
              "<style scoped>\n",
              "    .dataframe tbody tr th:only-of-type {\n",
              "        vertical-align: middle;\n",
              "    }\n",
              "\n",
              "    .dataframe tbody tr th {\n",
              "        vertical-align: top;\n",
              "    }\n",
              "\n",
              "    .dataframe thead th {\n",
              "        text-align: right;\n",
              "    }\n",
              "</style>\n",
              "<table border=\"1\" class=\"dataframe\">\n",
              "  <thead>\n",
              "    <tr style=\"text-align: right;\">\n",
              "      <th></th>\n",
              "      <th>max_depth</th>\n",
              "      <th>train_score</th>\n",
              "      <th>test_score</th>\n",
              "    </tr>\n",
              "  </thead>\n",
              "  <tbody>\n",
              "    <tr>\n",
              "      <th>2</th>\n",
              "      <td>3</td>\n",
              "      <td>78.750993</td>\n",
              "      <td>78.672633</td>\n",
              "    </tr>\n",
              "    <tr>\n",
              "      <th>3</th>\n",
              "      <td>4</td>\n",
              "      <td>78.787628</td>\n",
              "      <td>78.632803</td>\n",
              "    </tr>\n",
              "    <tr>\n",
              "      <th>4</th>\n",
              "      <td>5</td>\n",
              "      <td>78.941007</td>\n",
              "      <td>78.555912</td>\n",
              "    </tr>\n",
              "    <tr>\n",
              "      <th>5</th>\n",
              "      <td>6</td>\n",
              "      <td>79.170115</td>\n",
              "      <td>78.123266</td>\n",
              "    </tr>\n",
              "    <tr>\n",
              "      <th>6</th>\n",
              "      <td>7</td>\n",
              "      <td>79.496806</td>\n",
              "      <td>77.963185</td>\n",
              "    </tr>\n",
              "  </tbody>\n",
              "</table>\n",
              "</div>"
            ],
            "text/plain": [
              "   max_depth  train_score  test_score\n",
              "2          3    78.750993   78.672633\n",
              "3          4    78.787628   78.632803\n",
              "4          5    78.941007   78.555912\n",
              "5          6    79.170115   78.123266\n",
              "6          7    79.496806   77.963185"
            ]
          },
          "execution_count": 18,
          "metadata": {},
          "output_type": "execute_result"
        }
      ],
      "source": [
        "resultados.sort_values(\"test_score\", ascending=False).head()"
      ]
    }
  ],
  "metadata": {
    "colab": {
      "collapsed_sections": [],
      "name": "Introdução_a_Machine_Learning_Otimização.ipynb",
      "provenance": [],
      "version": "0.3.2"
    },
    "kernelspec": {
      "display_name": "Python 3.10.6 64-bit",
      "language": "python",
      "name": "python3"
    },
    "language_info": {
      "codemirror_mode": {
        "name": "ipython",
        "version": 3
      },
      "file_extension": ".py",
      "mimetype": "text/x-python",
      "name": "python",
      "nbconvert_exporter": "python",
      "pygments_lexer": "ipython3",
      "version": "3.10.6"
    },
    "vscode": {
      "interpreter": {
        "hash": "916dbcbb3f70747c44a77c7bcd40155683ae19c65e1c03b4aa3499c5328201f1"
      }
    }
  },
  "nbformat": 4,
  "nbformat_minor": 0
}
