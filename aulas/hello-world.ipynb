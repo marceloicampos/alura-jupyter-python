{
 "cells": [
  {
   "cell_type": "markdown",
   "metadata": {},
   "source": [
    "# Lógica de Programação com Python"
   ]
  },
  {
   "cell_type": "code",
   "execution_count": null,
   "metadata": {},
   "outputs": [],
   "source": [
    "msg = 'Hello World'\n",
    "print(msg)"
   ]
  },
  {
   "cell_type": "code",
   "execution_count": null,
   "metadata": {},
   "outputs": [],
   "source": [
    "print('Oi Marcelo')\n",
    "print(1+1)\n",
    "nome = str(input('Qual seu nome: '))\n",
    "print('Olá {}, seja bem vindo ao Curso de Data Science !'.format(nome))"
   ]
  },
  {
   "cell_type": "code",
   "execution_count": null,
   "metadata": {},
   "outputs": [],
   "source": [
    "nome = 'Marcelo'\n",
    "idade = 43\n",
    "print(nome)\n",
    "print(idade)\n",
    "1+1\n",
    "'Marcelo'"
   ]
  },
  {
   "cell_type": "code",
   "execution_count": null,
   "metadata": {},
   "outputs": [],
   "source": [
    "nome = 'Marcelo'\n",
    "idade = 43\n",
    "print(f'O nome é {nome} e a idade é {idade} anos')"
   ]
  },
  {
   "cell_type": "markdown",
   "metadata": {},
   "source": [
    "# FUNÇÕES"
   ]
  },
  {
   "cell_type": "code",
   "execution_count": null,
   "metadata": {},
   "outputs": [],
   "source": [
    "def saudacao():\n",
    "    nome = input('Qual é o seu nome? ')\n",
    "    print(f'Olá {nome} ! Prazer em te conhecer!')\n",
    "\n",
    "\n",
    "saudacao()"
   ]
  },
  {
   "cell_type": "code",
   "execution_count": null,
   "metadata": {},
   "outputs": [],
   "source": [
    "nome = 'Marcelo'"
   ]
  },
  {
   "cell_type": "code",
   "execution_count": null,
   "metadata": {},
   "outputs": [],
   "source": [
    "def saudacao_com_parametro(nome_da_pessoa):\n",
    "    print(f'Olá {nome_da_pessoa}')"
   ]
  },
  {
   "cell_type": "code",
   "execution_count": null,
   "metadata": {},
   "outputs": [],
   "source": [
    "saudacao_com_parametro(nome)"
   ]
  },
  {
   "cell_type": "markdown",
   "metadata": {},
   "source": [
    "# CONDICIONAIS"
   ]
  },
  {
   "cell_type": "code",
   "execution_count": null,
   "metadata": {},
   "outputs": [],
   "source": [
    "idade = 17\n",
    "\n",
    "\n",
    "def verifica_se_pode_dirigir(idade):\n",
    "    if idade >= 18:\n",
    "        print('TEM permissão')\n",
    "    else:\n",
    "        print('NÃO TEM permissão')\n",
    "\n",
    "\n",
    "verifica_se_pode_dirigir(idade)"
   ]
  },
  {
   "cell_type": "markdown",
   "metadata": {},
   "source": [
    "# CONVERSÃO DE TIPOS"
   ]
  },
  {
   "cell_type": "code",
   "execution_count": null,
   "metadata": {},
   "outputs": [],
   "source": [
    "def verifica_se_pode_dirigir_sem_parametros():\n",
    "    idade = int(input('Qual a sua idade?'))\n",
    "    if idade >= 18:\n",
    "        print('TEM permissão')\n",
    "    else:\n",
    "        print('NÃO TEM permissão')\n",
    "\n",
    "\n",
    "verifica_se_pode_dirigir_sem_parametros()"
   ]
  },
  {
   "cell_type": "markdown",
   "metadata": {},
   "source": [
    "# LISTAS (arrays)"
   ]
  },
  {
   "cell_type": "code",
   "execution_count": null,
   "metadata": {},
   "outputs": [],
   "source": [
    "idade = 43\n",
    "nome = 'Marcelo'\n",
    "type(idade)\n",
    "type(nome)"
   ]
  },
  {
   "cell_type": "code",
   "execution_count": null,
   "metadata": {},
   "outputs": [],
   "source": [
    "idades = [18, 22, 15, 50]\n",
    "type(idades)"
   ]
  },
  {
   "cell_type": "code",
   "execution_count": null,
   "metadata": {},
   "outputs": [],
   "source": [
    "idades[2]"
   ]
  },
  {
   "cell_type": "code",
   "execution_count": null,
   "metadata": {},
   "outputs": [],
   "source": [
    "idades[0:2]"
   ]
  },
  {
   "cell_type": "code",
   "execution_count": null,
   "metadata": {},
   "outputs": [],
   "source": [
    "idades[1:]"
   ]
  },
  {
   "cell_type": "code",
   "execution_count": null,
   "metadata": {},
   "outputs": [],
   "source": [
    "idades[-1]"
   ]
  },
  {
   "cell_type": "markdown",
   "metadata": {},
   "source": [
    "# LAÇOS e LOOPS (for)"
   ]
  },
  {
   "cell_type": "code",
   "execution_count": null,
   "metadata": {},
   "outputs": [],
   "source": [
    "idades = [18, 22, 15, 50]"
   ]
  },
  {
   "cell_type": "code",
   "execution_count": null,
   "metadata": {},
   "outputs": [],
   "source": [
    "def verifica_se_pode_dirigir(i):\n",
    "    if i >= 18:\n",
    "        print(f'Você tem {i} anos e TEM permissão')\n",
    "    else:\n",
    "        print(f'Você tem {i} e NÃO TEM permissão')\n",
    "\n",
    "\n",
    "for i in idades:\n",
    "    verifica_se_pode_dirigir(i)"
   ]
  },
  {
   "cell_type": "code",
   "execution_count": null,
   "metadata": {},
   "outputs": [],
   "source": [
    "def verifica_se_pode_dirigir(idades):\n",
    "    for idade in idades:\n",
    "        if i >= 18:\n",
    "            print(f'Você tem {idade} anos e TEM permissão')\n",
    "        else:\n",
    "            print(f'Você tem {idade} e NÃO TEM permissão')\n",
    "\n",
    "\n",
    "verifica_se_pode_dirigir(idades)"
   ]
  },
  {
   "cell_type": "markdown",
   "metadata": {},
   "source": [
    "# TIPO BOOLEANO"
   ]
  },
  {
   "cell_type": "code",
   "execution_count": null,
   "metadata": {},
   "outputs": [],
   "source": [
    "idade = 15\n",
    "idade >= 18"
   ]
  },
  {
   "cell_type": "code",
   "execution_count": null,
   "metadata": {},
   "outputs": [],
   "source": [
    "permissoes = []\n",
    "idades = [20, 14, 40]\n",
    "\n",
    "\n",
    "def verifica_se_pode_dirigir(idades, permissoes):\n",
    "    for idade in idades:\n",
    "        if idade >= 18:\n",
    "            permissoes.append(True)\n",
    "        else:\n",
    "            permissoes.append(False)\n",
    "\n",
    "\n",
    "verifica_se_pode_dirigir(idades, permissoes)"
   ]
  },
  {
   "cell_type": "code",
   "execution_count": null,
   "metadata": {},
   "outputs": [],
   "source": [
    "permissoes"
   ]
  },
  {
   "cell_type": "code",
   "execution_count": null,
   "metadata": {},
   "outputs": [],
   "source": [
    "for permissoes in permissoes:\n",
    "    if permissoes == True:\n",
    "        print('Você TEM permissão para DIRIGIR!')\n",
    "    else:\n",
    "        print('Você NÃO TEM permissão para DIRIGIR!')"
   ]
  },
  {
   "cell_type": "markdown",
   "metadata": {},
   "source": [
    "# TIPOS EM LISTAS"
   ]
  },
  {
   "cell_type": "code",
   "execution_count": null,
   "metadata": {},
   "outputs": [],
   "source": [
    "lista = ['guilherme', 28, True, '18']\n",
    "for element in lista:\n",
    "    # print(element)\n",
    "    # print(type(element))\n",
    "    # print(f'O elemento {element} é do tipo: {type(element)}')\n",
    "    print(f'O elemento {element} é do tipo:', type(element))"
   ]
  },
  {
   "cell_type": "markdown",
   "metadata": {},
   "source": [
    "# IMPORTS"
   ]
  },
  {
   "cell_type": "code",
   "execution_count": null,
   "metadata": {},
   "outputs": [],
   "source": [
    "from random import randrange, seed"
   ]
  },
  {
   "cell_type": "code",
   "execution_count": null,
   "metadata": {},
   "outputs": [],
   "source": [
    "seed(11)\n",
    "# com o seed fixamos o valor inicial em 10 e o randrange sempre será o mesmo na execução abaixo\n",
    "randrange(0, 11)\n",
    "notas_matematica = []\n",
    "for notas in range (8):\n",
    "  notas_matematica.append(randrange(0,11))\n",
    "notas_matematica\n",
    "# len(notas_matematica)"
   ]
  },
  {
   "cell_type": "markdown",
   "metadata": {},
   "source": [
    "# MATPLOTLIB - GRÁFICOS"
   ]
  },
  {
   "cell_type": "code",
   "execution_count": null,
   "metadata": {},
   "outputs": [],
   "source": [
    "# pip install matplotlib\n",
    "import matplotlib.pyplot as plt"
   ]
  },
  {
   "cell_type": "code",
   "execution_count": null,
   "metadata": {},
   "outputs": [],
   "source": [
    "x = list(range(1,9))\n",
    "y = notas_matematica\n",
    "plt.plot(x, y, marker='o')\n",
    "plt.title('Gráfico de Notas')\n",
    "plt.xlabel('PROVAS dos Alunos')\n",
    "plt.ylabel('NOTAS dos Alunos')\n",
    "plt.show()"
   ]
  },
  {
   "cell_type": "code",
   "execution_count": null,
   "metadata": {},
   "outputs": [],
   "source": [
    "import matplotlib.pyplot as plt\n",
    "\n",
    "notas_matematica = ['Matemática',8,7,6,6,7,7,8,10]\n",
    "notas_portugues = ['Português',9,9,9,8,5,6,8,5]\n",
    "notas_geografia = ['Geografia',10,10,6,7,7,7,8,7]\n",
    "\n",
    "notas = [notas_matematica, notas_portugues, notas_geografia]"
   ]
  },
  {
   "cell_type": "code",
   "execution_count": null,
   "metadata": {},
   "outputs": [],
   "source": [
    "for nota in notas:\n",
    "  x = list(range(1, 9))\n",
    "  y = nota[1:]\n",
    "  plt.plot(x, y, marker='o')\n",
    "  plt.xlabel('Provas')\n",
    "  plt.ylabel('Notas')\n",
    "  plt.title(nota[0])\n",
    "  plt.show()"
   ]
  }
 ],
 "metadata": {
  "kernelspec": {
   "display_name": "Python 3.10.4 64-bit",
   "language": "python",
   "name": "python3"
  },
  "language_info": {
   "codemirror_mode": {
    "name": "ipython",
    "version": 3
   },
   "file_extension": ".py",
   "mimetype": "text/x-python",
   "name": "python",
   "nbconvert_exporter": "python",
   "pygments_lexer": "ipython3",
   "version": "3.10.6 (main, Nov 14 2022, 16:10:14) [GCC 11.3.0]"
  },
  "orig_nbformat": 4,
  "vscode": {
   "interpreter": {
    "hash": "916dbcbb3f70747c44a77c7bcd40155683ae19c65e1c03b4aa3499c5328201f1"
   }
  }
 },
 "nbformat": 4,
 "nbformat_minor": 2
}
